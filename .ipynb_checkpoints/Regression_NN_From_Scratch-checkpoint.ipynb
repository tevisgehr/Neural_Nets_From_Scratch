{
 "cells": [
  {
   "cell_type": "code",
   "execution_count": 29,
   "metadata": {
    "collapsed": true
   },
   "outputs": [],
   "source": [
    "import numpy as np\n",
    "import pandas as pd"
   ]
  },
  {
   "cell_type": "code",
   "execution_count": 30,
   "metadata": {
    "collapsed": false
   },
   "outputs": [
    {
     "name": "stdout",
     "output_type": "stream",
     "text": [
      "m:  [-2.47291276]\n",
      "b:  [-0.81926608]\n"
     ]
    }
   ],
   "source": [
    "#Generate linear data\n",
    "\n",
    "#x values are random ten points from a uniform distribution\n",
    "x = np.random.rand(10)\n",
    "\n",
    "#m is a random slope between -2.5 and 2.5\n",
    "m = (np.random.random(1) - 0.5) * 5\n",
    "\n",
    "#b is a random slope between -1.0 and 1.0\n",
    "b = (np.random.random(1) - 0.5) * 2\n",
    "\n",
    "#y values are m*x + random normal error\n",
    "y = m*x + np.random.randn(10)*0.2 + b\n",
    "\n",
    "#For reference\n",
    "print('m: ',m)\n",
    "print('b: ',b)"
   ]
  },
  {
   "cell_type": "code",
   "execution_count": 31,
   "metadata": {
    "collapsed": false
   },
   "outputs": [
    {
     "data": {
      "image/png": "[encoded data removed]",
      "text/plain": [
       "<matplotlib.figure.Figure at 0x10f2150b8>"
      ]
     },
     "metadata": {},
     "output_type": "display_data"
    }
   ],
   "source": [
    "#visualize the generated data\n",
    "x_plot = np.linspace(0,1,10)\n",
    "\n",
    "import matplotlib.pyplot as plt\n",
    "%matplotlib inline\n",
    "fig = plt.figure()\n",
    "ax = fig.add_subplot(111)\n",
    "ax.scatter(x,y)\n",
    "ax.set_xlim([0, 1])\n",
    "ax.set_ylim([-3, 3])\n",
    "ax.plot(x_plot,m*x_plot+b);\n",
    "#We can see a good linear relationship"
   ]
  },
  {
   "cell_type": "code",
   "execution_count": 32,
   "metadata": {
    "collapsed": true
   },
   "outputs": [],
   "source": [
    "#Use Gradient Descent to find m\n",
    "def MSE(y_pred,y_actual):\n",
    "    assert y_actual.shape == y_pred.shape\n",
    "    n = len(y_actual)\n",
    "    return (1/n)*np.sum((y_pred - y_actual)**2)\n",
    "\n",
    "def d_MSE(y_pred,y_actual):\n",
    "    assert y_actual.shape == y_pred.shape\n",
    "    n = len(y_actual)\n",
    "    return (2/n)*(y_pred-y_actual)"
   ]
  },
  {
   "cell_type": "code",
   "execution_count": 33,
   "metadata": {
    "collapsed": false
   },
   "outputs": [
    {
     "data": {
      "text/plain": [
       "2.8834103003703722"
      ]
     },
     "execution_count": 33,
     "metadata": {},
     "output_type": "execute_result"
    }
   ],
   "source": [
    "m0 = np.random.rand(1)-1\n",
    "b0 = np.random.rand(1)-1\n",
    "y_actual = y.reshape(10,1)\n",
    "y_pred = (m0*x+b0).reshape(10,1)\n",
    "cost = MSE(y_pred,y_actual)\n",
    "cost"
   ]
  },
  {
   "cell_type": "code",
   "execution_count": 34,
   "metadata": {
    "collapsed": false
   },
   "outputs": [
    {
     "data": {
      "image/png": "[encoded data removed]",
      "text/plain": [
       "<matplotlib.figure.Figure at 0x112528898>"
      ]
     },
     "metadata": {},
     "output_type": "display_data"
    }
   ],
   "source": [
    "fig = plt.figure()\n",
    "ax = fig.add_subplot(111)\n",
    "ax.scatter(x,y)\n",
    "ax.set_xlim([0, 1])\n",
    "ax.set_ylim([-3, 3])\n",
    "ax.plot(x_plot,m0*x_plot+b0);"
   ]
  },
  {
   "cell_type": "code",
   "execution_count": 35,
   "metadata": {
    "collapsed": false
   },
   "outputs": [
    {
     "data": {
      "text/plain": [
       "(10, 1)"
      ]
     },
     "execution_count": 35,
     "metadata": {},
     "output_type": "execute_result"
    }
   ],
   "source": [
    "x_train = x.reshape(-1,1)\n",
    "x_train.shape"
   ]
  },
  {
   "cell_type": "code",
   "execution_count": 36,
   "metadata": {
    "collapsed": false
   },
   "outputs": [],
   "source": [
    "#cost = MSE(m0*x+b0,y_actual))\n",
    "d_cost_d_m0 = d_MSE(m0*x_train+b0,y_actual).reshape(1,10).dot(x_train.reshape(10,1))\n",
    "d_cost_d_b0 = sum(d_MSE((m0*x+b0).reshape(10,1),y_actual))\n",
    "                      \n",
    "m0 = m0 - d_cost_d_m0*0.1\n",
    "b0 = b0 - d_cost_d_m0*0.1"
   ]
  },
  {
   "cell_type": "code",
   "execution_count": 37,
   "metadata": {
    "collapsed": false
   },
   "outputs": [
    {
     "data": {
      "image/png": "[encoded data removed]",
      "text/plain": [
       "<matplotlib.figure.Figure at 0x11262e940>"
      ]
     },
     "metadata": {},
     "output_type": "display_data"
    }
   ],
   "source": [
    "fig = plt.figure()\n",
    "ax = fig.add_subplot(111)\n",
    "ax.scatter(x,y)\n",
    "ax.set_xlim([0, 1])\n",
    "ax.set_ylim([-3, 3])\n",
    "ax.plot(x_plot.reshape(10,1),(m0*x_plot+b0).reshape(10,1));"
   ]
  },
  {
   "cell_type": "code",
   "execution_count": 38,
   "metadata": {
    "collapsed": false
   },
   "outputs": [],
   "source": [
    "for i in range(10000):\n",
    "    d_cost_d_m0 = d_MSE(m0*x_train+b0,y_actual).reshape(1,10).dot(x_train.reshape(10,1))\n",
    "    d_cost_d_b0 = sum(d_MSE((m0*x+b0).reshape(10,1),y_actual))\n",
    "\n",
    "    m0 = m0 - d_cost_d_m0*0.001\n",
    "    b0 = b0 - d_cost_d_m0*0.001"
   ]
  },
  {
   "cell_type": "code",
   "execution_count": 39,
   "metadata": {
    "collapsed": false
   },
   "outputs": [
    {
     "data": {
      "image/png": "[encoded data removed]",
      "text/plain": [
       "<matplotlib.figure.Figure at 0x1125d1668>"
      ]
     },
     "metadata": {},
     "output_type": "display_data"
    }
   ],
   "source": [
    "fig = plt.figure()\n",
    "ax = fig.add_subplot(111)\n",
    "ax.scatter(x,y)\n",
    "ax.set_xlim([0, 1])\n",
    "ax.set_ylim([-3, 3])\n",
    "ax.plot(x_plot.reshape(10,1),(m0*x_plot+b0).reshape(10,1));"
   ]
  },
  {
   "cell_type": "code",
   "execution_count": null,
   "metadata": {
    "collapsed": true
   },
   "outputs": [],
   "source": [
    "#Now make and visualize linear 2D x and 1D y data"
   ]
  },
  {
   "cell_type": "code",
   "execution_count": null,
   "metadata": {
    "collapsed": true
   },
   "outputs": [],
   "source": []
  }
 ],
 "metadata": {
  "anaconda-cloud": {},
  "kernelspec": {
   "display_name": "Python [conda env:carnd-term1]",
   "language": "python",
   "name": "conda-env-carnd-term1-py"
  },
  "language_info": {
   "codemirror_mode": {
    "name": "ipython",
    "version": 3
   },
   "file_extension": ".py",
   "mimetype": "text/x-python",
   "name": "python",
   "nbconvert_exporter": "python",
   "pygments_lexer": "ipython3",
   "version": "3.5.2"
  }
 },
 "nbformat": 4,
 "nbformat_minor": 1
}
