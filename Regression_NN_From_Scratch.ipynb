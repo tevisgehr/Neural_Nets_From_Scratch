{
 "cells": [
  {
   "cell_type": "code",
   "execution_count": 25,
   "metadata": {
    "collapsed": true
   },
   "outputs": [],
   "source": [
    "import numpy as np\n",
    "import pandas as pd"
   ]
  },
  {
   "cell_type": "code",
   "execution_count": 68,
   "metadata": {
    "collapsed": false
   },
   "outputs": [
    {
     "name": "stdout",
     "output_type": "stream",
     "text": [
      "m:  [ 1.9079959]\n",
      "b:  [-0.24423858]\n"
     ]
    }
   ],
   "source": [
    "#Generate linear data\n",
    "\n",
    "#x values are random ten points from a uniform distribution\n",
    "x = np.random.rand(10)\n",
    "\n",
    "#m is a random slope between -2.5 and 2.5\n",
    "m = (np.random.random(1) - 0.5) * 5\n",
    "\n",
    "#b is a random slope between -1.0 and 1.0\n",
    "b = (np.random.random(1) - 0.5) * 2\n",
    "\n",
    "#y values are m*x + random normal error\n",
    "y = m*x + np.random.randn(10)*0.2 + b\n",
    "\n",
    "#For reference\n",
    "print('m: ',m)\n",
    "print('b: ',b)"
   ]
  },
  {
   "cell_type": "code",
   "execution_count": 69,
   "metadata": {
    "collapsed": false
   },
   "outputs": [
    {
     "data": {
      "image/png": "[encoded data removed]",
      "text/plain": [
       "<matplotlib.figure.Figure at 0x11aa51748>"
      ]
     },
     "metadata": {},
     "output_type": "display_data"
    }
   ],
   "source": [
    "#visualize the generated data\n",
    "x_plot = np.linspace(0,1,10)\n",
    "\n",
    "import matplotlib.pyplot as plt\n",
    "%matplotlib inline\n",
    "fig = plt.figure()\n",
    "ax = fig.add_subplot(111)\n",
    "ax.scatter(x,y)\n",
    "ax.set_xlim([0, 1])\n",
    "ax.set_ylim([-3, 3])\n",
    "ax.plot(x_plot,m*x_plot+b);\n",
    "#We can see a good linear relationship"
   ]
  },
  {
   "cell_type": "code",
   "execution_count": 67,
   "metadata": {
    "collapsed": true
   },
   "outputs": [],
   "source": [
    "#Use Gradient Descent to find m"
   ]
  },
  {
   "cell_type": "code",
   "execution_count": 24,
   "metadata": {
    "collapsed": true
   },
   "outputs": [],
   "source": [
    "#Now make and visualize linear 2D x and 1D y data"
   ]
  },
  {
   "cell_type": "code",
   "execution_count": null,
   "metadata": {
    "collapsed": true
   },
   "outputs": [],
   "source": []
  }
 ],
 "metadata": {
  "anaconda-cloud": {},
  "kernelspec": {
   "display_name": "Python [conda env:carnd-term1]",
   "language": "python",
   "name": "conda-env-carnd-term1-py"
  },
  "language_info": {
   "codemirror_mode": {
    "name": "ipython",
    "version": 3
   },
   "file_extension": ".py",
   "mimetype": "text/x-python",
   "name": "python",
   "nbconvert_exporter": "python",
   "pygments_lexer": "ipython3",
   "version": "3.5.2"
  }
 },
 "nbformat": 4,
 "nbformat_minor": 1
}
