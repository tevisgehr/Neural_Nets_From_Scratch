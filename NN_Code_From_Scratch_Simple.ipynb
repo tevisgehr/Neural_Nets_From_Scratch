{
 "cells": [
  {
   "cell_type": "code",
   "execution_count": 1,
   "metadata": {
    "collapsed": true
   },
   "outputs": [],
   "source": [
    "import numpy as np\n",
    "import pandas as pd"
   ]
  },
  {
   "cell_type": "code",
   "execution_count": 2,
   "metadata": {
    "collapsed": false
   },
   "outputs": [
    {
     "name": "stdout",
     "output_type": "stream",
     "text": [
      "(150, 4)\n",
      "(150,)\n"
     ]
    }
   ],
   "source": [
    "from sklearn.datasets import load_iris\n",
    "data = load_iris()\n",
    "data.keys()\n",
    "df = pd.DataFrame(data = data['data'],columns = data['feature_names'])\n",
    "X = np.array(df)\n",
    "y = np.array(data['target'])\n",
    "from sklearn.utils import shuffle\n",
    "X, y = shuffle(X, y)\n",
    "print(X.shape)\n",
    "print(y.shape)\n",
    "from sklearn.preprocessing import StandardScaler\n",
    "scaler = StandardScaler()\n",
    "X = scaler.fit_transform(X)"
   ]
  },
  {
   "cell_type": "code",
   "execution_count": 3,
   "metadata": {
    "collapsed": false
   },
   "outputs": [
    {
     "data": {
      "text/plain": [
       "100"
      ]
     },
     "execution_count": 3,
     "metadata": {},
     "output_type": "execute_result"
    }
   ],
   "source": [
    "len(np.where((y == 0) | (y == 1))[0])"
   ]
  },
  {
   "cell_type": "code",
   "execution_count": 4,
   "metadata": {
    "collapsed": true
   },
   "outputs": [],
   "source": [
    "#reduce to a 2 class problem\n",
    "X = X[np.where((y == 0) | (y == 1))[0]]\n",
    "y = y[np.where((y == 0) | (y == 1))[0]]"
   ]
  },
  {
   "cell_type": "code",
   "execution_count": 5,
   "metadata": {
    "collapsed": false
   },
   "outputs": [
    {
     "name": "stdout",
     "output_type": "stream",
     "text": [
      "[ 1.  1.  1.]\n"
     ]
    }
   ],
   "source": [
    "from sklearn.ensemble import RandomForestClassifier\n",
    "from sklearn.model_selection import cross_val_score\n",
    "clf = RandomForestClassifier()\n",
    "clf.fit(X,y)\n",
    "print(cross_val_score(clf, X, y)) \n",
    "\n",
    "#Perfect separation!"
   ]
  },
  {
   "cell_type": "code",
   "execution_count": 6,
   "metadata": {
    "collapsed": false
   },
   "outputs": [
    {
     "data": {
      "text/plain": [
       "(100, 2)"
      ]
     },
     "execution_count": 6,
     "metadata": {},
     "output_type": "execute_result"
    }
   ],
   "source": [
    "#use PCA to visualize:\n",
    "from sklearn.decomposition import PCA\n",
    "pca = PCA(n_components=2)\n",
    "X_plot = pca.fit_transform(X)\n",
    "X_plot.shape"
   ]
  },
  {
   "cell_type": "code",
   "execution_count": 7,
   "metadata": {
    "collapsed": false
   },
   "outputs": [
    {
     "data": {
      "image/png": "[encoded data removed]",
      "text/plain": [
       "<matplotlib.figure.Figure at 0x111de8e80>"
      ]
     },
     "metadata": {},
     "output_type": "display_data"
    }
   ],
   "source": [
    "import matplotlib.pyplot as plt\n",
    "%matplotlib inline\n",
    "fig = plt.figure()\n",
    "ax = fig.add_subplot(111)\n",
    "ax.scatter(X_plot[np.where(y==0)].T[0],X_plot[np.where(y==0)].T[1])\n",
    "ax.scatter(X_plot[np.where(y==1)].T[0],X_plot[np.where(y==1)].T[1]);\n",
    "#We can see the the classes are perfectly separated when projected into 2 dimentions"
   ]
  },
  {
   "cell_type": "code",
   "execution_count": 8,
   "metadata": {
    "collapsed": false
   },
   "outputs": [],
   "source": [
    "#Now on to the Neural Network:\n",
    "\n",
    "#Helper Functions\n",
    "def sigmoid(x):\n",
    "    return 1/(1+np.exp(-x))\n",
    "\n",
    "def d_sigmoid(x):\n",
    "    return sigmoid(x)*(1-sigmoid(x))\n",
    "\n",
    "def tanh(x):\n",
    "    return np.tanh(x)\n",
    "\n",
    "def d_tanh(x):\n",
    "    return 1-np.tanh(x)**2\n",
    "\n",
    "\n",
    "def MSE(y_output,y_actual):\n",
    "    n = len(y_actual)\n",
    "    return np.sum((y_output.T-y_actual)**2)/n\n",
    "\n",
    "\n",
    "def d_MSE(y_output,y_actual):\n",
    "    n = len(y_actual)\n",
    "    return (2/n)*np.sum(y_output-y_actual)\n",
    "\n",
    "def cross_entropy(a, y):\n",
    "    n = len(y)\n",
    "    y = y.reshape(n,1)\n",
    "    C = -(1/n)*np.sum(y*np.log(a)+(1-y)*np.log(1-a))\n",
    "    return C\n",
    "\n",
    "def d_cross_entropy(a, y):\n",
    "    n = len(y)\n",
    "    #y = y.reshape(n,1)\n",
    "    d_C = -(1/n)*np.sum((a-y)/((a-1)*a))\n",
    "    return  d_C\n",
    "\n",
    "\n",
    "\n",
    "#The goal is to set it up so that we can use BATCH, Mini-Batch, or SGD(batch size 1), depending on the input size. "
   ]
  },
  {
   "cell_type": "code",
   "execution_count": 9,
   "metadata": {
    "collapsed": false
   },
   "outputs": [
    {
     "data": {
      "text/plain": [
       "11.565615222844391"
      ]
     },
     "execution_count": 9,
     "metadata": {},
     "output_type": "execute_result"
    }
   ],
   "source": [
    "# y_output = np.array([.01,.9,.99,.01])\n",
    "# y_actual = np.array([1,0,0,1])\n",
    "\n",
    "#y_output = np.array([.9,0.1,0.1,.9])\n",
    "#y_actual = np.array([1,0,0,1])\n",
    "\n",
    "#y_output = np.array([.1,0.9,0.1,.9])\n",
    "#y_actual = np.array([1,0,0,1])\n",
    "\n",
    "y_output = np.array([.000009,.00001])\n",
    "y_actual = np.array([1,0])\n",
    "\n",
    "cross_entropy(y_output,y_actual)"
   ]
  },
  {
   "cell_type": "code",
   "execution_count": 10,
   "metadata": {
    "collapsed": false
   },
   "outputs": [
    {
     "data": {
      "text/plain": [
       "array([ 0.41997434,  1.        ])"
      ]
     },
     "execution_count": 10,
     "metadata": {},
     "output_type": "execute_result"
    }
   ],
   "source": [
    "d_tanh(y_actual)"
   ]
  },
  {
   "cell_type": "code",
   "execution_count": 11,
   "metadata": {
    "collapsed": true
   },
   "outputs": [],
   "source": [
    "'''\n",
    "--Network Architecture--\n",
    "\n",
    "           IN(X)          FC1           A1           OUT           A2             SCORE\n",
    "SGD:      (1x4)          (1x10)       (1x10)        (1x1)         (1x1)           (1) \n",
    "BATCH:   (100x4)        (100x10)     (100x10)      (100x1)       (100x1)          (1)\n",
    "\n",
    "                  X*w0    >>  sig(fc1)  >>   a1*w1    >>  sig(out)  >>  mse(a2) >>\n",
    "                   (4x10)                      (10x1)\n",
    "Going to forego biases for now. Because the data is linearly seperable with lines through the origin,\n",
    "I think that this should work fine for this particular problem.  \n",
    "'''\n",
    "def forward(x,y_actual,w0,w1,b0,b1):\n",
    "    fc1 = x.dot(w0)+b0\n",
    "    #print('fc1: ',fc1.shape)\n",
    "    \n",
    "    a1 = sigmoid(fc1)\n",
    "    #print('a1: ',a1.shape)\n",
    "    \n",
    "    out = a1.dot(w1)+b1\n",
    "    #print('out: ',out.shape)\n",
    "    \n",
    "    a2 = sigmoid(out)\n",
    "    #print('a2: ',a2.shape)\n",
    "    \n",
    "    score = cross_entropy(a2, y_actual)\n",
    "    print('score: ',score)\n",
    "    \n",
    "    return x,y_actual,w0,w1,b0,b1,fc1,a1,out,a2,score\n",
    "\n",
    "def backward(x,y_actual,w0,w1,b0,b1,fc1,a1,out,a2,score,learning_rate):\n",
    "    print('d_cross_entropy',d_cross_entropy(a2,y_actual).shape)\n",
    "    print((a2-y_actual).shape)\n",
    "    \n",
    "    d_score_d_w1 = a1.T.dot(d_cross_entropy(a2,y_actual)*d_sigmoid(out))\n",
    "    #print(d_score_d_w1)\n",
    "    \n",
    "    d_score_d_b1 = d_cross_entropy(a2,y_actual)*d_sigmoid(out)\n",
    "    #print(d_score_d_w1)\n",
    "    \n",
    "    \n",
    "    \n",
    "    d_score_d_w0 = X.T.dot((d_cross_entropy(a2,y_actual)*d_sigmoid(out)).dot(w1.T)*d_sigmoid(fc1))\n",
    "    #print(d_score_d_w0)\n",
    "    \n",
    "    d_score_d_b0 = (d_cross_entropy(a2,y_actual)*d_sigmoid(out)).dot(w1.T)*d_sigmoid(fc1)\n",
    "    #print(d_score_d_w0)\n",
    "    \n",
    "    w1 = w1 - learning_rate * d_score_d_w1\n",
    "    b1 = b1 - learning_rate * d_score_d_b1\n",
    "    w0 = w0 - learning_rate * d_score_d_w0\n",
    "    b0 = b0 - learning_rate * d_score_d_b0\n",
    "    \n",
    "    return x,y_actual,w0,w1,b0,b1,fc1,a1,out,a2,score"
   ]
  },
  {
   "cell_type": "code",
   "execution_count": 20,
   "metadata": {
    "collapsed": true
   },
   "outputs": [],
   "source": [
    "#Hyperparameters\n",
    "learning_rate = 0.01\n",
    "epochs = 4\n",
    "#batch_size = 100\n",
    "x = X\n",
    "y_actual = y#.reshape(100,1)\n",
    "#x = X[:5]\n",
    "#y_actual = y[:5]\n",
    "#x = X[3]\n",
    "w0 = (np.random.randn(4,2)-1)*.01\n",
    "b0 = (np.random.randn(len(x),2)-1)*.01\n",
    "w1 = (np.random.randn(2,1)-1)*.01\n",
    "b1 = (np.random.randn(len(x),1)-1)*.01"
   ]
  },
  {
   "cell_type": "code",
   "execution_count": 21,
   "metadata": {
    "collapsed": false
   },
   "outputs": [
    {
     "name": "stdout",
     "output_type": "stream",
     "text": [
      "-----------Epoch , 0\n",
      "score:  0.693328451792\n",
      "-0.0163166764285 -0.00282373180554\n",
      "d_cross_entropy ()\n",
      "(100, 100)\n",
      "-0.0162541904626 0.0947594304675\n",
      "-----------Epoch , 1\n",
      "score:  0.694362110794\n",
      "-0.0162541904626 0.0947594304675\n",
      "d_cross_entropy ()\n",
      "(100, 100)\n",
      "0.00819442178896 -1.04309376825\n",
      "-----------Epoch , 2\n",
      "score:  0.840844429645\n",
      "0.00819442178896 -1.04309376825\n",
      "d_cross_entropy ()\n",
      "(100, 100)\n",
      "2.88323052909 10.6271640159\n",
      "-----------Epoch , 3\n",
      "score:  0.41728399936\n",
      "2.88323052909 10.6271640159\n",
      "d_cross_entropy ()\n",
      "(100, 100)\n",
      "48690124.6095 -5261855.40103\n"
     ]
    }
   ],
   "source": [
    "#batches = x   #Set batches to each individual x. (SGD)\n",
    "batches = [x] #Set batch to all of x.\n",
    "\n",
    "for epoch in range(epochs):\n",
    "    print('-----------Epoch ,',epoch)\n",
    "    for i,batch in enumerate(batches):\n",
    "        x,y_actual,w0,w1,b0,b1,fc1,a1,out,a2,score = forward(x,y_actual,w0,w1,b0,b1) \n",
    "        #print(np.hstack((a2,y_actual.reshape(100,1)))[10:20])\n",
    "        print(w0[0][0],w1[0][0])\n",
    "        x,y_actual,w0,w1,b0,b1,fc1,a1,out,a2,score = backward(x,y_actual,w0,w1,b0,b1,fc1,a1,out,a2,score,learning_rate)\n",
    "        print(w0[0][0],w1[0][0])"
   ]
  },
  {
   "cell_type": "code",
   "execution_count": 22,
   "metadata": {
    "collapsed": false
   },
   "outputs": [
    {
     "name": "stdout",
     "output_type": "stream",
     "text": [
      "[[ 48690124.60946519  49917356.3427834 ]\n",
      " [ 93127825.54759592  95163065.36613226]\n",
      " [ 12553344.64016698  12968545.53337999]\n",
      " [ 12327625.78808711  12611096.60811755]]\n"
     ]
    }
   ],
   "source": [
    "print(w0)"
   ]
  },
  {
   "cell_type": "code",
   "execution_count": 23,
   "metadata": {
    "collapsed": false
   },
   "outputs": [
    {
     "name": "stdout",
     "output_type": "stream",
     "text": [
      "[[  0.20657726   0.55146144   0.        ]\n",
      " [  0.20086575   0.55004828   0.        ]\n",
      " [  0.72520775   0.67375277   1.        ]\n",
      " [  0.24032316   0.55979329   0.        ]\n",
      " [  0.20733301   0.55164837   0.        ]\n",
      " [  0.21544666   0.55365429   0.        ]\n",
      " [ 11.08775825   0.9999847    1.        ]\n",
      " [  0.21635999   0.55387998   0.        ]\n",
      " [ 21.2898205    1.           1.        ]\n",
      " [ 14.02675227   0.99999919   1.        ]\n",
      " [ 12.22164556   0.99999508   1.        ]\n",
      " [ 21.36504214   1.           1.        ]\n",
      " [  0.20845299   0.55192536   0.        ]\n",
      " [  0.55080054   0.6343213    1.        ]\n",
      " [  0.21604101   0.55380116   0.        ]\n",
      " [ 21.40331961   1.           1.        ]\n",
      " [  0.21535547   0.55363175   0.        ]\n",
      " [ 15.41322189   0.9999998    1.        ]\n",
      " [ 13.81378916   0.999999     1.        ]\n",
      " [ 21.31272476   1.           1.        ]\n",
      " [  0.21991988   0.55475945   0.        ]\n",
      " [ 20.62321043   1.           1.        ]\n",
      " [  0.2052683    0.55113764   0.        ]\n",
      " [  0.22212522   0.5553041    0.        ]\n",
      " [  0.21585987   0.5537564    0.        ]\n",
      " [  0.228554     0.55689106   0.        ]\n",
      " [  7.7807097    0.99958246   1.        ]\n",
      " [  0.22965666   0.55716314   0.        ]\n",
      " [ 21.44418834   1.           1.        ]\n",
      " [  0.22542026   0.55611764   0.        ]\n",
      " [ 16.63246017   0.99999994   1.        ]\n",
      " [ 18.10489252   0.99999999   1.        ]\n",
      " [ 20.85199846   1.           1.        ]\n",
      " [  0.20433351   0.55090638   0.        ]\n",
      " [  0.22767576   0.55667434   0.        ]\n",
      " [  0.20991653   0.55228727   0.        ]\n",
      " [  0.20987079   0.55227596   0.        ]\n",
      " [ 21.45651519   1.           1.        ]\n",
      " [  0.20151928   0.55021002   0.        ]\n",
      " [  0.21994878   0.55476658   0.        ]\n",
      " [ 20.33715825   1.           1.        ]\n",
      " [ 20.46925174   1.           1.        ]\n",
      " [  0.20204086   0.55033909   0.        ]\n",
      " [  0.20333544   0.55065944   0.        ]\n",
      " [ 20.90967024   1.           1.        ]\n",
      " [ 19.20300291   1.           1.        ]\n",
      " [  0.2051856    0.55111718   0.        ]\n",
      " [  0.22639098   0.55635724   0.        ]\n",
      " [ 21.42173472   1.           1.        ]\n",
      " [  8.0924397    0.99969425   1.        ]\n",
      " [ 16.98351378   0.99999996   1.        ]\n",
      " [  0.2075676    0.55170639   0.        ]\n",
      " [  0.21276374   0.55299118   0.        ]\n",
      " [ 21.43144863   1.           1.        ]\n",
      " [ 21.47768964   1.           1.        ]\n",
      " [ 15.37530091   0.99999979   1.        ]\n",
      " [  0.20315857   0.55061567   0.        ]\n",
      " [  0.20773678   0.55174823   0.        ]\n",
      " [ 21.21050855   1.           1.        ]\n",
      " [  4.86983187   0.9923838    1.        ]\n",
      " [ 21.29644372   1.           1.        ]\n",
      " [  0.20764297   0.55172503   0.        ]\n",
      " [  4.73110048   0.99126029   1.        ]\n",
      " [  0.20603692   0.55132778   0.        ]\n",
      " [  0.73837281   0.67663993   1.        ]\n",
      " [  0.21712796   0.55406973   0.        ]\n",
      " [  0.19346324   0.54821552   0.        ]\n",
      " [  0.23538502   0.55857605   0.        ]\n",
      " [ 21.21667457   1.           1.        ]\n",
      " [ 19.74395086   1.           1.        ]\n",
      " [ 21.25922485   1.           1.        ]\n",
      " [  0.21246081   0.5529163    0.        ]\n",
      " [ 14.83780059   0.99999964   1.        ]\n",
      " [  0.19637529   0.54893666   0.        ]\n",
      " [ 18.77086069   0.99999999   1.        ]\n",
      " [ 21.47103208   1.           1.        ]\n",
      " [  9.42413165   0.99991925   1.        ]\n",
      " [  0.20670432   0.55149287   0.        ]\n",
      " [ 20.80103096   1.           1.        ]\n",
      " [ 13.40572648   0.99999849   1.        ]\n",
      " [ 15.58068558   0.99999983   1.        ]\n",
      " [  0.21957336   0.55467385   0.        ]\n",
      " [ 20.98751199   1.           1.        ]\n",
      " [  0.21619051   0.5538381    0.        ]\n",
      " [ 15.44099596   0.9999998    1.        ]\n",
      " [  0.23355813   0.55812555   0.        ]\n",
      " [  0.21061037   0.55245883   0.        ]\n",
      " [  0.19167632   0.54777291   0.        ]\n",
      " [  0.21259288   0.55294895   0.        ]\n",
      " [  0.20739233   0.55166304   0.        ]\n",
      " [  0.21219412   0.55285037   0.        ]\n",
      " [ 21.34316015   1.           1.        ]\n",
      " [  1.41707746   0.80487985   1.        ]\n",
      " [  0.19809901   0.54936343   0.        ]\n",
      " [ 12.63822069   0.99999675   1.        ]\n",
      " [  7.57511119   0.9994872    1.        ]\n",
      " [  0.20903834   0.55207011   0.        ]\n",
      " [ 21.37730333   1.           1.        ]\n",
      " [  0.21023274   0.55236546   0.        ]\n",
      " [  0.21477509   0.55348832   0.        ]]\n"
     ]
    }
   ],
   "source": [
    "print(np.hstack((out,a2,y_actual.reshape(100,1))))"
   ]
  },
  {
   "cell_type": "code",
   "execution_count": 19,
   "metadata": {
    "collapsed": true
   },
   "outputs": [],
   "source": [
    "#for reference, a more thourough step by step way of back-propogating the gradients\n",
    "def backward_old(x,y_actual,w0,w1,fc1,a1,out,a2,score, learning_rate):\n",
    "    d_score_d_a2 = d_MSE(a2,y_actual)\n",
    "    #print('d_score_d_a2: ',d_score_d_a2.shape)\n",
    "    \n",
    "    d_a2_d_out = d_sigmoid(out)\n",
    "    #print('d_a2_d_out: ',d_a2_d_out.shape)\n",
    "    \n",
    "    d_out_d_a1 = w1\n",
    "    #print('d_out_d_a1: ',d_out_d_a1.shape)\n",
    "    \n",
    "    d_a1_d_fc1 = d_sigmoid(fc1)\n",
    "    #print('d_a1_d_fc1: ',d_a1_d_fc1.shape)\n",
    "\n",
    "    #Chains\n",
    "    d_score_d_out = d_score_d_a2 * d_a2_d_out\n",
    "    #  (5x1)           (1)            (5x1)\n",
    "    #print('d_score_d_out: ',d_score_d_out.shape)\n",
    "    \n",
    "    d_score_d_a1 = d_score_d_out.dot(d_out_d_a1.T)\n",
    "    #  (5x10)          (5x1)            (1x10)\n",
    "    #print('d_score_d_a1: ',d_score_d_a1.shape)\n",
    "    \n",
    "    d_score_d_fc1 = d_score_d_a1 * d_a1_d_fc1\n",
    "    #  (5x10)         (5x10)         (5x10)   \n",
    "    #print('d_score_d_fc1: ',d_score_d_fc1.shape)\n",
    "    \n",
    "    \n",
    "    #Weights\n",
    "    d_score_d_w1 = a1.T.dot(d_score_d_out)\n",
    "    #   (10x1)       (10x5)     (5x1)    \n",
    "    #print('d_score_d_w1: ',d_score_d_w1.shape)\n",
    "    print(d_score_d_w1)\n",
    "    \n",
    "    d_score_d_w0 = x.T.dot(d_score_d_fc1)\n",
    "    #   (4x10)    (4x5)      (5x10)\n",
    "    #print('d_score_d_w0: ',d_score_d_w0.shape)\n",
    "    print(d_score_d_w0)\n",
    "    \n",
    "    #Update Weights: Gradient Descent Step\n",
    "    \n",
    "    w1 += -learning_rate * d_score_d_w1\n",
    "    w0 += -learning_rate * d_score_d_w0\n",
    "    #print('Update:')\n",
    "    #print(-learning_rate * d_score_d_w1)\n",
    "    \n",
    "    #return x,y_actual,w0,w1,fc1,a1,out,a2,score"
   ]
  }
 ],
 "metadata": {
  "kernelspec": {
   "display_name": "Python 3",
   "language": "python",
   "name": "python3"
  },
  "language_info": {
   "codemirror_mode": {
    "name": "ipython",
    "version": 3
   },
   "file_extension": ".py",
   "mimetype": "text/x-python",
   "name": "python",
   "nbconvert_exporter": "python",
   "pygments_lexer": "ipython3",
   "version": "3.6.0"
  }
 },
 "nbformat": 4,
 "nbformat_minor": 1
}
